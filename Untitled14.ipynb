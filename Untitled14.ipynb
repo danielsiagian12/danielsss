{
  "nbformat": 4,
  "nbformat_minor": 0,
  "metadata": {
    "colab": {
      "provenance": [],
      "toc_visible": true,
      "authorship_tag": "ABX9TyP01F3bqQHqt3U+5hTDNNaL",
      "include_colab_link": true
    },
    "kernelspec": {
      "name": "python3",
      "display_name": "Python 3"
    },
    "language_info": {
      "name": "python"
    }
  },
  "cells": [
    {
      "cell_type": "markdown",
      "metadata": {
        "id": "view-in-github",
        "colab_type": "text"
      },
      "source": [
        "<a href=\"https://colab.research.google.com/github/danielsiagian12/danielsss/blob/main/Untitled14.ipynb\" target=\"_parent\"><img src=\"https://colab.research.google.com/assets/colab-badge.svg\" alt=\"Open In Colab\"/></a>"
      ]
    },
    {
      "cell_type": "code",
      "execution_count": null,
      "metadata": {
        "colab": {
          "base_uri": "https://localhost:8080/"
        },
        "id": "-wkfmE1NGlc_",
        "outputId": "ad7999b3-d818-4558-847a-c08ba7cc82f7"
      },
      "outputs": [
        {
          "output_type": "stream",
          "name": "stdout",
          "text": [
            "Masukkan N: 4\n",
            "1 1 1 1\n",
            "1 2 3 4\n",
            "1 3 6 10\n",
            "1 4 10 20\n"
          ]
        }
      ],
      "source": [
        "def buat_segitiga_pascal(N):\n",
        "    pascal = [[0 for _ in range(N)] for _ in range(N)]\n",
        "\n",
        "    for i in range(N):\n",
        "        pascal[i][0] = 1\n",
        "        pascal[0][i] = 1\n",
        "\n",
        "    for i in range(1, N):\n",
        "        for j in range(1, N):\n",
        "            pascal[i][j] = pascal[i-1][j] + pascal[i][j-1]\n",
        "\n",
        "    for row in pascal:\n",
        "        print(' '.join(map(str, row)))\n",
        "\n",
        "N = int(input(\"Masukkan N: \"))\n",
        "buat_segitiga_pascal(N)"
      ]
    },
    {
      "cell_type": "code",
      "source": [
        "# Program untuk menghitung jangkauan (range) dari array yang sudah terurut naik\n",
        "\n",
        "def hitung_jangkauan(array):\n",
        "    nilai_terkecil = array[0]\n",
        "    nilai_terbesar = array[-1]\n",
        "    jangkauan = nilai_terbesar - nilai_terkecil\n",
        "    return jangkauan\n",
        "\n",
        "A = [3, 5, 7, 10, 15, 20]\n",
        "print(\"Array A:\", A)\n",
        "print(\"Jangkauan:\", hitung_jangkauan(A))"
      ],
      "metadata": {
        "colab": {
          "base_uri": "https://localhost:8080/"
        },
        "id": "5sl8sBl3IxPc",
        "outputId": "0a6f9a42-a16e-459e-daeb-969a60f80924"
      },
      "execution_count": null,
      "outputs": [
        {
          "output_type": "stream",
          "name": "stdout",
          "text": [
            "Array A: [3, 5, 7, 10, 15, 20]\n",
            "Jangkauan: 17\n"
          ]
        }
      ]
    },
    {
      "cell_type": "code",
      "source": [
        "from google.colab import drive\n",
        "drive.mount('/content/drive')"
      ],
      "metadata": {
        "id": "tJ9M9d0qL1bz"
      },
      "execution_count": null,
      "outputs": []
    }
  ]
}