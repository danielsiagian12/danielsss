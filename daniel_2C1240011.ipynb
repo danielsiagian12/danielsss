{
  "nbformat": 4,
  "nbformat_minor": 0,
  "metadata": {
    "colab": {
      "provenance": [],
      "name": "daniel 2C1240011",
      "authorship_tag": "ABX9TyNoif09lOIYF3lblZlDdN4f",
      "include_colab_link": true
    },
    "kernelspec": {
      "name": "python3",
      "display_name": "Python 3"
    },
    "language_info": {
      "name": "python"
    }
  },
  "cells": [
    {
      "cell_type": "markdown",
      "metadata": {
        "id": "view-in-github",
        "colab_type": "text"
      },
      "source": [
        "<a href=\"https://colab.research.google.com/github/danielsiagian12/danielsss/blob/main/daniel_2C1240011.ipynb\" target=\"_parent\"><img src=\"https://colab.research.google.com/assets/colab-badge.svg\" alt=\"Open In Colab\"/></a>"
      ]
    },
    {
      "cell_type": "code",
      "execution_count": null,
      "metadata": {
        "colab": {
          "base_uri": "https://localhost:8080/"
        },
        "id": "K1lsn7cAd2xd",
        "outputId": "d581a029-bb7d-4dae-8719-2169a1668110"
      },
      "outputs": [
        {
          "output_type": "stream",
          "name": "stdout",
          "text": [
            "4\n",
            "6\n",
            "7\n",
            "1\n",
            "2\n",
            "Nilai terbesar dari elemen T adalah: 7\n"
          ]
        }
      ],
      "source": [
        "N = int(input())\n",
        "\n",
        "T = [int(input()) for _ in range(N)]\n",
        "\n",
        "max_value = max(T)\n",
        "\n",
        "print(\"Nilai terbesar dari elemen T adalah:\", max_value)"
      ]
    },
    {
      "cell_type": "code",
      "source": [],
      "metadata": {
        "id": "9uSb9HDVgJWo"
      },
      "execution_count": null,
      "outputs": []
    }
  ]
}