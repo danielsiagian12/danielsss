{
  "nbformat": 4,
  "nbformat_minor": 0,
  "metadata": {
    "colab": {
      "provenance": [],
      "include_colab_link": true
    },
    "kernelspec": {
      "name": "python3",
      "display_name": "Python 3"
    },
    "language_info": {
      "name": "python"
    }
  },
  "cells": [
    {
      "cell_type": "markdown",
      "metadata": {
        "id": "view-in-github",
        "colab_type": "text"
      },
      "source": [
        "<a href=\"https://colab.research.google.com/github/danielsiagian12/danielsss/blob/main/Untitled9.ipynb\" target=\"_parent\"><img src=\"https://colab.research.google.com/assets/colab-badge.svg\" alt=\"Open In Colab\"/></a>"
      ]
    },
    {
      "cell_type": "code",
      "execution_count": null,
      "metadata": {
        "colab": {
          "base_uri": "https://localhost:8080/"
        },
        "id": "l3MZmIEdOwv1",
        "outputId": "f67a82d5-6207-4249-9a80-206ea1d60039"
      },
      "outputs": [
        {
          "output_type": "stream",
          "name": "stdout",
          "text": [
            "A memiliki nilai 90 dinyatakan Lulus\n",
            "B memiliki nilai 65 dinyatakan Tidak Lulus\n",
            "C memiliki nilai 78 dinyatakan Lulus\n",
            "D memiliki nilai 85 dinyatakan Lulus\n",
            "E memiliki nilai 72 dinyatakan Tidak Lulus\n"
          ]
        }
      ],
      "source": [
        "nama = ['A', 'B', 'C', 'D', 'E']\n",
        "nilai = [90, 65, 78, 85, 72]\n",
        "\n",
        "for i in range(len(nama)):\n",
        "    if nilai[i] >= 75:\n",
        "        print(f\"{nama[i]} memiliki nilai {nilai[i]} dinyatakan Lulus\")\n",
        "    else:\n",
        "        print(f\"{nama[i]} memiliki nilai {nilai[i]} dinyatakan Tidak Lulus\")"
      ]
    },
    {
      "cell_type": "code",
      "source": [
        "n = int(input(\"Masukkan nilai n: \"))\n",
        "print(\"Angka Ganjil:\")\n",
        "for i in range(1, n+1, 2):\n",
        "    print(i, end=\" \")\n",
        "print(\"\\nAngka Genap:\")\n",
        "for i in range(2, n+1, 2):\n",
        "    print(i, end=\" \")"
      ],
      "metadata": {
        "colab": {
          "base_uri": "https://localhost:8080/"
        },
        "id": "z0NN_Lo0PPhM",
        "outputId": "41b89de1-9860-48e4-a1f6-51b39ceca29c"
      },
      "execution_count": null,
      "outputs": [
        {
          "output_type": "stream",
          "name": "stdout",
          "text": [
            "Masukkan nilai n: 20\n",
            "Angka Ganjil:\n",
            "1 3 5 7 9 11 13 15 17 19 \n",
            "Angka Genap:\n",
            "2 4 6 8 10 12 14 16 18 20 "
          ]
        }
      ]
    },
    {
      "cell_type": "code",
      "source": [
        "n = int(input(\"Masukkan nilai n: \"))\n",
        "print(\"Bilangan prima dari 1 sampai\", n)\n",
        "for num in range(2, n+1):\n",
        "    is_prima = True\n",
        "    for i in range(2, int(num**0.5)+1):\n",
        "        if num % i == 0:\n",
        "            is_prima = False\n",
        "            break\n",
        "    if is_prima:\n",
        "        print(num, end=\" \")"
      ],
      "metadata": {
        "colab": {
          "base_uri": "https://localhost:8080/"
        },
        "id": "r1UFfE7rParV",
        "outputId": "ada5de8a-7a79-4297-fe1b-3778f1f21bba"
      },
      "execution_count": null,
      "outputs": [
        {
          "output_type": "stream",
          "name": "stdout",
          "text": [
            "Masukkan nilai n: 30\n",
            "Bilangan prima dari 1 sampai 30\n",
            "2 3 5 7 11 13 17 19 23 29 "
          ]
        }
      ]
    },
    {
      "cell_type": "code",
      "source": [
        "n = int(input(\"Masukkan nilai n: \"))\n",
        "print(\"Bilangan bukan prima dari 1 sampai\", n)\n",
        "for num in range(1, n+1):\n",
        "    if num < 2 or any(num % i == 0 for i in range(2, int(num**0.5)+1)):\n",
        "        print(num, end=\" \")"
      ],
      "metadata": {
        "colab": {
          "base_uri": "https://localhost:8080/"
        },
        "id": "TbyvPZljPjjF",
        "outputId": "defee398-c9f5-4878-d827-17158ae09fa1"
      },
      "execution_count": null,
      "outputs": [
        {
          "output_type": "stream",
          "name": "stdout",
          "text": [
            "Masukkan nilai n: 30\n",
            "Bilangan bukan prima dari 1 sampai 30\n",
            "1 4 6 8 9 10 12 14 15 16 18 20 21 22 24 25 26 27 28 30 "
          ]
        }
      ]
    },
    {
      "cell_type": "code",
      "source": [
        "t = [2, 5, 8, 3, 6, 9]\n",
        "p = [1, 4, 7, 2, 5, 8]\n",
        "hasil = [t[i] * p[i] for i in range(len(t))]\n",
        "print(hasil)"
      ],
      "metadata": {
        "colab": {
          "base_uri": "https://localhost:8080/"
        },
        "id": "bqb-AR6IPwsb",
        "outputId": "c77e35a4-97b0-45bb-8738-7f319d51fbdb"
      },
      "execution_count": null,
      "outputs": [
        {
          "output_type": "stream",
          "name": "stdout",
          "text": [
            "[2, 20, 56, 6, 30, 72]\n"
          ]
        }
      ]
    },
    {
      "cell_type": "code",
      "source": [
        "uang = 15000\n",
        "barang = ['Telur', 'Beras', 'Tepung', 'Daging', 'Tempe']\n",
        "harga = [2000, 15000, 8000, 23000, 6000]\n",
        "\n",
        "keranjang = barang[0:3]  # Telur, Beras, dan Tepung\n",
        "total = sum(harga[0:3])  # Total harga barang dalam keranjang\n",
        "\n",
        "if total <= uang:\n",
        "    print(f\"Uang cukup karena total pembelian sebesar {total}\")\n",
        "else:\n",
        "    print(f\"Uang tidak cukup karena total pembelian sebesar {total}\")"
      ],
      "metadata": {
        "colab": {
          "base_uri": "https://localhost:8080/"
        },
        "id": "wzSudRV4P87U",
        "outputId": "34165638-4cd3-4a92-cbd5-0d713913fd90"
      },
      "execution_count": null,
      "outputs": [
        {
          "output_type": "stream",
          "name": "stdout",
          "text": [
            "Uang tidak cukup karena total pembelian sebesar 25000\n"
          ]
        }
      ]
    },
    {
      "cell_type": "code",
      "source": [
        "uang = 15000\n",
        "barang = ['Telur', 'Beras', 'Tepung', 'Daging', 'Tempe']\n",
        "harga = [2000, 15000, 8000, 23000, 6000]\n",
        "\n",
        "keranjang = ['Telur', 'Tepung']\n",
        "total = harga[0] + harga[2]\n",
        "\n",
        "if total <= uang:\n",
        "    print(f\"Uang cukup karena total pembelian sebesar {total}\")\n",
        "else:\n",
        "    print(f\"Uang tidak cukup karena total pembelian sebesar {total}\")"
      ],
      "metadata": {
        "id": "Sq_uVXgHQJ0N",
        "outputId": "0ade8b4b-ca24-4a8f-e684-087d24e3be5e",
        "colab": {
          "base_uri": "https://localhost:8080/"
        }
      },
      "execution_count": null,
      "outputs": [
        {
          "output_type": "stream",
          "name": "stdout",
          "text": [
            "Uang cukup karena total pembelian sebesar 10000\n"
          ]
        }
      ]
    }
  ]
}